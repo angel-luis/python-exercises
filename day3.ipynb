{
 "cells": [
  {
   "attachments": {},
   "cell_type": "markdown",
   "metadata": {},
   "source": [
    "Write a program that accepts a sequence of whitespace separated words as input and prints the words after removing all duplicate words and sorting them alphanumerically.\n",
    "\n",
    "Suppose the following input is supplied to the program:\n",
    "```bash\n",
    "hello world and practice makes perfect and hello world again\n",
    "```\n",
    "\n",
    "Then, the output should be:\n",
    "```bash\n",
    "again and hello makes perfect practice world\n",
    "```"
   ]
  },
  {
   "cell_type": "code",
   "execution_count": 2,
   "metadata": {},
   "outputs": [
    {
     "data": {
      "text/plain": [
       "'again and hello makes perfect practice world'"
      ]
     },
     "execution_count": 2,
     "metadata": {},
     "output_type": "execute_result"
    }
   ],
   "source": [
    "user_input = input(\"Insert some words separated by a whitespace\").split(\" \")\n",
    "sorted_input = sorted(set(user_input))\n",
    "\" \".join(sorted_input)"
   ]
  },
  {
   "attachments": {},
   "cell_type": "markdown",
   "metadata": {},
   "source": [
    "Write a program which accepts a sequence of comma separated 4 digit binary numbers as its input and then check whether they are divisible by 5 or not. The numbers that are divisible by 5 are to be printed in a comma separated sequence.\n",
    "\n",
    "Example:\n",
    "```bash\n",
    "0100,0011,1010,1001\n",
    "```\n",
    "\n",
    "Then the output should be:\n",
    "```bash\n",
    "1010\n",
    "```"
   ]
  },
  {
   "cell_type": "code",
   "execution_count": 1,
   "metadata": {},
   "outputs": [
    {
     "data": {
      "text/plain": [
       "'1010'"
      ]
     },
     "execution_count": 1,
     "metadata": {},
     "output_type": "execute_result"
    }
   ],
   "source": [
    "user_input = input(\"Insert binary numbers of 4 digits, comma separated\").split(\",\")\n",
    "\",\".join([n for n in user_input if int(n, 2) % 5 == 0])"
   ]
  },
  {
   "attachments": {},
   "cell_type": "markdown",
   "metadata": {},
   "source": [
    "Write a program, which will find all such numbers between 1000 and 3000 (both included) such that each digit of the number is an even number. The numbers obtained should be printed in a comma-separated sequence on a single line."
   ]
  },
  {
   "cell_type": "code",
   "execution_count": 14,
   "metadata": {},
   "outputs": [
    {
     "data": {
      "text/plain": [
       "[2000,\n",
       " 2002,\n",
       " 2004,\n",
       " 2006,\n",
       " 2008,\n",
       " 2020,\n",
       " 2022,\n",
       " 2024,\n",
       " 2026,\n",
       " 2028,\n",
       " 2040,\n",
       " 2042,\n",
       " 2044,\n",
       " 2046,\n",
       " 2048,\n",
       " 2060,\n",
       " 2062,\n",
       " 2064,\n",
       " 2066,\n",
       " 2068,\n",
       " 2080,\n",
       " 2082,\n",
       " 2084,\n",
       " 2086,\n",
       " 2088,\n",
       " 2200,\n",
       " 2202,\n",
       " 2204,\n",
       " 2206,\n",
       " 2208,\n",
       " 2220,\n",
       " 2222,\n",
       " 2224,\n",
       " 2226,\n",
       " 2228,\n",
       " 2240,\n",
       " 2242,\n",
       " 2244,\n",
       " 2246,\n",
       " 2248,\n",
       " 2260,\n",
       " 2262,\n",
       " 2264,\n",
       " 2266,\n",
       " 2268,\n",
       " 2280,\n",
       " 2282,\n",
       " 2284,\n",
       " 2286,\n",
       " 2288,\n",
       " 2400,\n",
       " 2402,\n",
       " 2404,\n",
       " 2406,\n",
       " 2408,\n",
       " 2420,\n",
       " 2422,\n",
       " 2424,\n",
       " 2426,\n",
       " 2428,\n",
       " 2440,\n",
       " 2442,\n",
       " 2444,\n",
       " 2446,\n",
       " 2448,\n",
       " 2460,\n",
       " 2462,\n",
       " 2464,\n",
       " 2466,\n",
       " 2468,\n",
       " 2480,\n",
       " 2482,\n",
       " 2484,\n",
       " 2486,\n",
       " 2488,\n",
       " 2600,\n",
       " 2602,\n",
       " 2604,\n",
       " 2606,\n",
       " 2608,\n",
       " 2620,\n",
       " 2622,\n",
       " 2624,\n",
       " 2626,\n",
       " 2628,\n",
       " 2640,\n",
       " 2642,\n",
       " 2644,\n",
       " 2646,\n",
       " 2648,\n",
       " 2660,\n",
       " 2662,\n",
       " 2664,\n",
       " 2666,\n",
       " 2668,\n",
       " 2680,\n",
       " 2682,\n",
       " 2684,\n",
       " 2686,\n",
       " 2688,\n",
       " 2800,\n",
       " 2802,\n",
       " 2804,\n",
       " 2806,\n",
       " 2808,\n",
       " 2820,\n",
       " 2822,\n",
       " 2824,\n",
       " 2826,\n",
       " 2828,\n",
       " 2840,\n",
       " 2842,\n",
       " 2844,\n",
       " 2846,\n",
       " 2848,\n",
       " 2860,\n",
       " 2862,\n",
       " 2864,\n",
       " 2866,\n",
       " 2868,\n",
       " 2880,\n",
       " 2882,\n",
       " 2884,\n",
       " 2886,\n",
       " 2888]"
      ]
     },
     "execution_count": 14,
     "metadata": {},
     "output_type": "execute_result"
    }
   ],
   "source": [
    "result = []\n",
    "\n",
    "for num in range(1000, 3001):\n",
    "    digits = str(num)\n",
    "    full_even = True\n",
    "\n",
    "    for digit in digits:\n",
    "        if(int(digit) % 2 != 0):\n",
    "            full_even = False\n",
    "            break\n",
    "\n",
    "    if(full_even):\n",
    "        result.append(num)\n",
    "\n",
    "result"
   ]
  },
  {
   "attachments": {},
   "cell_type": "markdown",
   "metadata": {},
   "source": [
    "Write a program that accepts a sentence and calculate the number of letters and digits.\n",
    "\n",
    "Suppose the following input is supplied to the program:\n",
    "```bash\n",
    "hello world! 123\n",
    "```\n",
    "\n",
    "Then, the output should be:\n",
    "```bash\n",
    "LETTERS 10\n",
    "DIGITS 3\n",
    "```"
   ]
  },
  {
   "cell_type": "code",
   "execution_count": 25,
   "metadata": {},
   "outputs": [
    {
     "name": "stdout",
     "output_type": "stream",
     "text": [
      "LETTERS 10\n",
      "DIGITS 3\n"
     ]
    }
   ],
   "source": [
    "user_input = input(\"Write a sentence\").replace(\" \", \"\")\n",
    "letters_input = [l for l in user_input if l.isalpha()]\n",
    "digits_input = [d for d in user_input if d.isnumeric()]\n",
    "print(f\"LETTERS {len(letters_input)}\")\n",
    "print(f\"DIGITS {len(digits_input)}\")\n"
   ]
  }
 ],
 "metadata": {
  "kernelspec": {
   "display_name": "Python 3",
   "language": "python",
   "name": "python3"
  },
  "language_info": {
   "codemirror_mode": {
    "name": "ipython",
    "version": 3
   },
   "file_extension": ".py",
   "mimetype": "text/x-python",
   "name": "python",
   "nbconvert_exporter": "python",
   "pygments_lexer": "ipython3",
   "version": "3.10.11"
  },
  "orig_nbformat": 4
 },
 "nbformat": 4,
 "nbformat_minor": 2
}
