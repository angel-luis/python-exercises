{
 "cells": [
  {
   "attachments": {},
   "cell_type": "markdown",
   "metadata": {},
   "source": [
    "Define a class with a generator which can iterate the numbers, which are divisible by 7, between a given range 0 and n.\n",
    "\n",
    "Suppose the following input is supplied to the program:\n",
    "```python\n",
    "14\n",
    "```\n",
    "\n",
    "Then, the output should be:\n",
    "```python\n",
    "0\n",
    "7\n",
    "14\n",
    "```"
   ]
  },
  {
   "cell_type": "code",
   "execution_count": 13,
   "metadata": {},
   "outputs": [
    {
     "name": "stdout",
     "output_type": "stream",
     "text": [
      "0\n",
      "7\n",
      "14\n"
     ]
    }
   ],
   "source": [
    "class Divisible:\n",
    "    def by7(num):\n",
    "        for i in range(0, num + 1):\n",
    "            if(i % 7 == 0):\n",
    "                yield i\n",
    "\n",
    "my_generator = Divisible.by7(int(input(\"Introduce a number... \")))\n",
    "\n",
    "for n in my_generator:\n",
    "    print(n)"
   ]
  },
  {
   "attachments": {},
   "cell_type": "markdown",
   "metadata": {},
   "source": [
    "A robot moves in a plane starting from the original point (0,0). The robot can move toward UP, DOWN, LEFT and RIGHT with a given steps. The trace of robot movement is shown as the following:\n",
    "\n",
    "```\n",
    "UP 5\n",
    "DOWN 3\n",
    "LEFT 3\n",
    "RIGHT 2\n",
    "```\n",
    "\n",
    "The numbers after the direction are steps. Please write a program to compute the distance from current position after a sequence of movement and original point. If the distance is a float, then just print the nearest integer. Example: If the following tuples are given as input to the program:\n",
    "```\n",
    "UP 5\n",
    "DOWN 3\n",
    "LEFT 3\n",
    "RIGHT 2\n",
    "```\n",
    "\n",
    "Then, the output of the program should be:\n",
    "```python\n",
    "2\n",
    "```\n",
    "\n",
    "Hint: use the euclidean distance."
   ]
  },
  {
   "cell_type": "code",
   "execution_count": 23,
   "metadata": {},
   "outputs": [
    {
     "data": {
      "text/plain": [
       "2"
      ]
     },
     "execution_count": 23,
     "metadata": {},
     "output_type": "execute_result"
    }
   ],
   "source": [
    "from math import dist\n",
    "\n",
    "coordinates = []\n",
    "\n",
    "while True:\n",
    "    user_input = input(\"Introduce the coordinates (DIRECTION, STEPS) line by line... \")\n",
    "\n",
    "    if user_input == \"\":\n",
    "        break\n",
    "\n",
    "    coordinates.append(tuple(user_input.split(\" \")))\n",
    "\n",
    "x_dist = 0\n",
    "y_dist = 0\n",
    "\n",
    "for coord in coordinates:\n",
    "    direction = coord[0]\n",
    "    steps = int(coord[1])\n",
    "\n",
    "    if(direction == \"RIGHT\"):\n",
    "        x_dist += steps\n",
    "\n",
    "    if(direction == \"LEFT\"):\n",
    "        x_dist -= steps\n",
    "\n",
    "    if(direction == \"UP\"):\n",
    "        y_dist += steps\n",
    "\n",
    "    if(direction == \"DOWN\"):\n",
    "        y_dist -= steps\n",
    "\n",
    "final_distance = dist((0,0), (x_dist, y_dist))\n",
    "\n",
    "int(round(final_distance))"
   ]
  }
 ],
 "metadata": {
  "kernelspec": {
   "display_name": "Python 3",
   "language": "python",
   "name": "python3"
  },
  "language_info": {
   "codemirror_mode": {
    "name": "ipython",
    "version": 3
   },
   "file_extension": ".py",
   "mimetype": "text/x-python",
   "name": "python",
   "nbconvert_exporter": "python",
   "pygments_lexer": "ipython3",
   "version": "3.10.11"
  },
  "orig_nbformat": 4
 },
 "nbformat": 4,
 "nbformat_minor": 2
}
