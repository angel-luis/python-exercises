{
 "cells": [
  {
   "attachments": {},
   "cell_type": "markdown",
   "metadata": {},
   "source": [
    "A website requires the users to input username and password to register. Write a program to check the validity of password input by users.\n",
    "\n",
    "Following are the criteria for checking the password:\n",
    "- At least 1 letter between [a-z]\n",
    "- At least 1 number between [0-9]\n",
    "- At least 1 letter between [A-Z]\n",
    "- At least 1 character from [$#@]\n",
    "- Minimum length of transaction password: 6\n",
    "- Maximum length of transaction password: 12\n",
    "\n",
    "Your program should accept a sequence of comma separated passwords and will check them according to the above criteria. Passwords that match the criteria are to be printed, each separated by a comma.\n",
    "\n",
    "If the following passwords are given as input to the program:\n",
    "```\n",
    "ABd1234@1,a F1#,2w3E*,2We3345\n",
    "```\n",
    "\n",
    "Then, the output of the program should be:\n",
    "```\n",
    "ABd1234@1\n",
    "```"
   ]
  },
  {
   "cell_type": "code",
   "execution_count": 6,
   "metadata": {},
   "outputs": [
    {
     "data": {
      "text/plain": [
       "'ABd1234@1'"
      ]
     },
     "execution_count": 6,
     "metadata": {},
     "output_type": "execute_result"
    }
   ],
   "source": [
    "import re\n",
    "user_input = input(\"Insert the passwords comma separated... \").split(\",\")\n",
    "\n",
    "valid_passwords = []\n",
    "\n",
    "for password in user_input:\n",
    "    if len(password) < 6 or len(password) > 12:\n",
    "        break\n",
    "\n",
    "    patterns = [r\"[a-z]\", r\"[A-Z]\", r\"[0-9]\", r\"[$|#|@]\"]\n",
    "\n",
    "    is_valid = True\n",
    "\n",
    "    for pattern in patterns:\n",
    "        if (not re.search(pattern, password)):\n",
    "            is_valid = False\n",
    "            break\n",
    "\n",
    "    if (is_valid):\n",
    "        valid_passwords.append(password)\n",
    "\n",
    "\",\".join(valid_passwords)"
   ]
  },
  {
   "attachments": {},
   "cell_type": "markdown",
   "metadata": {},
   "source": [
    "You are required to write a program to sort the (name, age, score) tuples by ascending order where name is string, age and score are numbers. The tuples are input by console. The sort criteria is:\n",
    "\n",
    "1. Sort based on name\n",
    "2. Then sort based on age\n",
    "3. Then sort by score\n",
    "\n",
    "The priority is that: name > age > score.\n",
    "\n",
    "If the following tuples are given as input to the program:\n",
    "```\n",
    "Tom,19,80\n",
    "John,20,90\n",
    "Jony,17,91\n",
    "Jony,17,93\n",
    "Json,21,85\n",
    "```\n",
    "\n",
    "Then, the output of the program should be:\n",
    "```python\n",
    "[('John', '20', '90'), ('Jony', '17', '91'), ('Jony', '17', '93'), ('Json', '21', '85'), ('Tom', '19', '80')]\n",
    "```"
   ]
  },
  {
   "cell_type": "code",
   "execution_count": 4,
   "metadata": {},
   "outputs": [
    {
     "name": "stdout",
     "output_type": "stream",
     "text": [
      "[('John', '20', '90'), ('Jony', '17', '91'), ('Jony', '17', '93'), ('Json', '21', '85'), ('Tom', '19', '80')]\n"
     ]
    }
   ],
   "source": [
    "data = []\n",
    "\n",
    "while True:\n",
    "    user_input = input(\"Introduce the data comma separated (name, age, score)... \")\n",
    "\n",
    "    if(user_input == \"\"):\n",
    "        break\n",
    "\n",
    "    data.append(tuple(user_input.split(\",\")))\n",
    "\n",
    "data.sort(key = lambda d: d[1])\n",
    "data.sort(key = lambda d: d[0])\n",
    "\n",
    "print(data)"
   ]
  }
 ],
 "metadata": {
  "kernelspec": {
   "display_name": "Python 3",
   "language": "python",
   "name": "python3"
  },
  "language_info": {
   "codemirror_mode": {
    "name": "ipython",
    "version": 3
   },
   "file_extension": ".py",
   "mimetype": "text/x-python",
   "name": "python",
   "nbconvert_exporter": "python",
   "pygments_lexer": "ipython3",
   "version": "3.10.11"
  },
  "orig_nbformat": 4
 },
 "nbformat": 4,
 "nbformat_minor": 2
}
