{
 "cells": [
  {
   "attachments": {},
   "cell_type": "markdown",
   "metadata": {},
   "source": [
    "Use a list comprehension to square each odd number in a list. The list is input by a sequence of comma-separated numbers.\n",
    "\n",
    "Suppose the following input is supplied to the program:\n",
    "```python\n",
    "1,2,3,4,5,6,7,8,9\n",
    "```\n",
    "\n",
    "Then, the output should be:\n",
    "```python\n",
    "\"1,9,25,49,81\"\n",
    "```\n"
   ]
  },
  {
   "cell_type": "code",
   "execution_count": 8,
   "metadata": {},
   "outputs": [
    {
     "data": {
      "text/plain": [
       "'1,9,25,49,81'"
      ]
     },
     "execution_count": 8,
     "metadata": {},
     "output_type": "execute_result"
    }
   ],
   "source": [
    "user_input = input(\"Provide a list of numbers comma separated... \").split(\",\")\n",
    "nums_list = map(lambda num: int(num), user_input)\n",
    "result_list = [str(x**2) for x in nums_list if x % 2 != 0]\n",
    "\",\".join(result_list)"
   ]
  },
  {
   "attachments": {},
   "cell_type": "markdown",
   "metadata": {},
   "source": [
    "Write a program that computes the net amount of a bank account based a transaction log from console input. The transaction log format is shown as following:\n",
    "```\n",
    "D 100\n",
    "W 200\n",
    "```\n",
    "D means deposit while W means withdrawal.\n",
    "\n",
    "Suppose the following input is supplied to the program:\n",
    "```\n",
    "D 300\n",
    "D 300\n",
    "W 200\n",
    "D 100\n",
    "```\n",
    "\n",
    "Then, the output should be:\n",
    "```python\n",
    "500\n",
    "```"
   ]
  },
  {
   "cell_type": "code",
   "execution_count": 9,
   "metadata": {},
   "outputs": [
    {
     "data": {
      "text/plain": [
       "500"
      ]
     },
     "execution_count": 9,
     "metadata": {},
     "output_type": "execute_result"
    }
   ],
   "source": [
    "deposits = 0\n",
    "withdrawals = 0\n",
    "\n",
    "while True:\n",
    "    user_input = input(\"Insert the transactions line by line... \")\n",
    "\n",
    "    if(user_input == \"\"):\n",
    "        break\n",
    "    else:\n",
    "        if(user_input.find(\"D\") != -1):\n",
    "            deposits += int(user_input.replace(\"D \", \"\"))\n",
    "        else:\n",
    "            withdrawals += int(user_input.replace(\"W \", \"\"))\n",
    "\n",
    "deposits - withdrawals\n"
   ]
  }
 ],
 "metadata": {
  "kernelspec": {
   "display_name": "Python 3",
   "language": "python",
   "name": "python3"
  },
  "language_info": {
   "codemirror_mode": {
    "name": "ipython",
    "version": 3
   },
   "file_extension": ".py",
   "mimetype": "text/x-python",
   "name": "python",
   "nbconvert_exporter": "python",
   "pygments_lexer": "ipython3",
   "version": "3.10.11"
  },
  "orig_nbformat": 4
 },
 "nbformat": 4,
 "nbformat_minor": 2
}
