{
  "cells": [
    {
      "attachments": {},
      "cell_type": "markdown",
      "metadata": {},
      "source": [
        "Write a program which accepts a sequence of comma-separated numbers\n",
        "from console and generate a list and a tuple which contains every number.\n",
        "\n",
        "Suppose the following input is supplied to the program:\n",
        "```python\n",
        "34,67,55,33,12,98\n",
        "```\n",
        "\n",
        "Then, the output should be:\n",
        "```python\n",
        "['34', '67', '55', '33', '12', '98']\n",
        "('34', '67', '55', '33', '12', '98')\n",
        "```\n"
      ]
    },
    {
      "cell_type": "code",
      "execution_count": 1,
      "metadata": {},
      "outputs": [
        {
          "name": "stdout",
          "output_type": "stream",
          "text": [
            "['34', '67', '55', '33', '12', '98']\n",
            "('34', '67', '55', '33', '12', '98')\n"
          ]
        }
      ],
      "source": [
        "user_list = input(\n",
        "    \"Introduce a sequence of numbers comma separated... \").split(\",\")\n",
        "print(user_list)\n",
        "print(tuple(user_list))"
      ]
    },
    {
      "attachments": {},
      "cell_type": "markdown",
      "metadata": {},
      "source": [
        "Define a class which has at least two methods:\n",
        "\n",
        "- getString: to get a string from console input.\n",
        "- printString: to print the string in upper case.\n",
        "\n",
        "Also please include simple test function to test the class methods."
      ]
    },
    {
      "cell_type": "code",
      "execution_count": 2,
      "metadata": {},
      "outputs": [
        {
          "name": "stdout",
          "output_type": "stream",
          "text": [
            "hello world\n"
          ]
        }
      ],
      "source": [
        "class printIO:\n",
        "    user_input = None\n",
        "\n",
        "    def getString(self):\n",
        "        self.user_input = input(\"Write something... \")\n",
        "\n",
        "    def printString(self):\n",
        "        print(self.user_input)\n",
        "\n",
        "\n",
        "print_io = printIO()\n",
        "print_io.getString()\n",
        "print_io.printString()"
      ]
    },
    {
      "attachments": {},
      "cell_type": "markdown",
      "metadata": {},
      "source": [
        "Write a program that calculates and prints the value according to the given formula:\n",
        "```\n",
        "Q = Square root of [(2 * C * D)/H]\n",
        "```\n",
        "\n",
        "Following are the fixed values of C and H:\n",
        "```\n",
        "C is 50. H is 30.\n",
        "```\n",
        "D is the variable whose values should be input to your program in a comma-separated sequence.\n",
        "\n",
        "For example, let us assume the following comma separated input sequence is given to the program:\n",
        "```python\n",
        "100,150,180\n",
        "```\n",
        "\n",
        "The output of the program should be:\n",
        "```python\n",
        "18,22,24\n",
        "```"
      ]
    },
    {
      "cell_type": "code",
      "execution_count": 4,
      "metadata": {},
      "outputs": [
        {
          "name": "stdout",
          "output_type": "stream",
          "text": [
            "18,22,24,"
          ]
        }
      ],
      "source": [
        "from math import sqrt\n",
        "\n",
        "C, H = 50, 30\n",
        "user_list = input(\n",
        "    \"Introduce a sequence of numbers comma separated... \").split(\",\")\n",
        "\n",
        "for num in user_list:\n",
        "    D = int(num)\n",
        "    print(int(sqrt(2*C*D/H)), end=\",\")"
      ]
    },
    {
      "attachments": {},
      "cell_type": "markdown",
      "metadata": {},
      "source": [
        "Write a program which takes 2 digits, X,Y as input and generates a 2-dimensional array. The element value in the i-th row and j-th column of the array should be i * j.\n",
        "\n",
        "**Note**: i=0,1.., X-1; j=0,1,Y-1.\n",
        "\n",
        "Suppose the following inputs are given to the program:\n",
        "```python\n",
        "3,5\n",
        "```\n",
        "\n",
        "Then, the output of the program should be:\n",
        "```python\n",
        "[[0, 0, 0, 0, 0], [0, 1, 2, 3, 4], [0, 2, 4, 6, 8]]\n",
        "```"
      ]
    },
    {
      "cell_type": "code",
      "execution_count": 5,
      "metadata": {},
      "outputs": [
        {
          "data": {
            "text/plain": [
              "[[0, 0, 0, 0, 0], [0, 1, 2, 3, 4], [0, 2, 4, 6, 8]]"
            ]
          },
          "execution_count": 5,
          "metadata": {},
          "output_type": "execute_result"
        }
      ],
      "source": [
        "user_list = input(\n",
        "    \"Provide 2 numbers comma separated... \").split(\",\")\n",
        "X = int(user_list[0])\n",
        "Y = int(user_list[1])\n",
        "list_dim1 = []\n",
        "\n",
        "for i in range(X):\n",
        "    list_dim2 = []\n",
        "    for j in range(Y):\n",
        "        list_dim2.append(i*j)\n",
        "    list_dim1.append(list_dim2)\n",
        "\n",
        "list_dim1"
      ]
    },
    {
      "attachments": {},
      "cell_type": "markdown",
      "metadata": {},
      "source": [
        "Write a program that accepts a comma separated sequence of words as input and prints the words in a comma-separated sequence after sorting them alphabetically.\n",
        "\n",
        "Suppose the following input is supplied to the program:\n",
        "```python\n",
        "without,hello,bag,world\n",
        "```\n",
        "\n",
        "Then, the output should be:\n",
        "```python\n",
        "bag,hello,without,world\n",
        "```"
      ]
    },
    {
      "cell_type": "code",
      "execution_count": 6,
      "metadata": {},
      "outputs": [
        {
          "data": {
            "text/plain": [
              "'bag,hello,without,world'"
            ]
          },
          "execution_count": 6,
          "metadata": {},
          "output_type": "execute_result"
        }
      ],
      "source": [
        "user_list = input(\n",
        "    \"Provide a comma separated list of words... \").split(\",\")\n",
        "user_list.sort()\n",
        "\",\".join(user_list)"
      ]
    },
    {
      "attachments": {},
      "cell_type": "markdown",
      "metadata": {},
      "source": [
        "Write a program that accepts sequence of lines as input and prints\n",
        "the lines after making all characters in the sentence capitalized.\n",
        "\n",
        "Suppose the following input is supplied to the program:\n",
        "```python\n",
        "Hello world\n",
        "Practice makes perfect\n",
        "```\n",
        "\n",
        "Then, the output should be:\n",
        "```python\n",
        "HELLO WORLD\n",
        "PRACTICE MAKES PERFECT\n",
        "```"
      ]
    },
    {
      "cell_type": "code",
      "execution_count": 7,
      "metadata": {},
      "outputs": [
        {
          "name": "stdout",
          "output_type": "stream",
          "text": [
            "HELLO WORLD\n",
            "PRACTICE MAKES PERFECT\n"
          ]
        }
      ],
      "source": [
        "user_list = []\n",
        "user_input = None\n",
        "\n",
        "while (user_input != \"\"):\n",
        "    user_input = input(\"Provide a phrase... \")\n",
        "    if(user_input == \"\"):\n",
        "        break\n",
        "    user_list.append(user_input)\n",
        "\n",
        "for phrase in user_list:\n",
        "    print(phrase.upper())"
      ]
    }
  ],
  "metadata": {
    "kernelspec": {
      "display_name": "Python 3",
      "language": "python",
      "name": "python3"
    },
    "language_info": {
      "codemirror_mode": {
        "name": "ipython",
        "version": 3
      },
      "file_extension": ".py",
      "mimetype": "text/x-python",
      "name": "python",
      "nbconvert_exporter": "python",
      "pygments_lexer": "ipython3",
      "version": "3.10.11"
    },
    "orig_nbformat": 4
  },
  "nbformat": 4,
  "nbformat_minor": 2
}
